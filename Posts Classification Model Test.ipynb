{
 "cells": [
  {
   "cell_type": "code",
   "execution_count": 1,
   "id": "bb8293bd-827c-4afd-beae-e7253abe1bb1",
   "metadata": {},
   "outputs": [
    {
     "name": "stderr",
     "output_type": "stream",
     "text": [
      "C:\\Users\\ahmed\\AppData\\Local\\anaconda3\\envs\\torchlib\\Lib\\site-packages\\tqdm\\auto.py:21: TqdmWarning: IProgress not found. Please update jupyter and ipywidgets. See https://ipywidgets.readthedocs.io/en/stable/user_install.html\n",
      "  from .autonotebook import tqdm as notebook_tqdm\n"
     ]
    }
   ],
   "source": [
    "import torch\n",
    "import torch.nn.functional as F\n",
    "from transformers import BertTokenizer, BertForSequenceClassification"
   ]
  },
  {
   "cell_type": "code",
   "execution_count": 2,
   "id": "47c426d6-1723-4c02-9644-bdb6b2043da1",
   "metadata": {},
   "outputs": [],
   "source": [
    "# Load your trained model (replace 'path/to/your/model' with the actual path)\n",
    "model_path = r\"E:\\Fassla Projects\\Art and Sports Classification Model\\Art_Sports_Politics_Religion\\Model2\"\n",
    "model = BertForSequenceClassification.from_pretrained(model_path)\n",
    "tokenizer = BertTokenizer.from_pretrained(model_path)"
   ]
  },
  {
   "cell_type": "code",
   "execution_count": 3,
   "id": "813e2141-62a4-4b4e-9130-37a80da8964b",
   "metadata": {},
   "outputs": [],
   "source": [
    "def convert_posts_label(label):\n",
    "    label_names = {\n",
    "        0: 'Art',\n",
    "        1: 'Sports',\n",
    "        2: 'Politics',\n",
    "        3: 'Religion'\n",
    "    }\n",
    "\n",
    "    return label_names[label]"
   ]
  },
  {
   "cell_type": "code",
   "execution_count": 4,
   "id": "ae836cf1-59a4-441a-b115-aa5e8d9c668e",
   "metadata": {},
   "outputs": [],
   "source": [
    "def analyze_sentiment(sentence, tokenizer, model, convert_posts_label):\n",
    "    # Tokenize and prepare the input for the model\n",
    "    inputs = tokenizer(sentence, return_tensors='pt')\n",
    "    \n",
    "    # Forward pass through the model\n",
    "    with torch.no_grad():\n",
    "        outputs = model(**inputs)\n",
    "    \n",
    "    # Get the logits\n",
    "    logits = outputs.logits\n",
    "    \n",
    "    # Convert logits to probabilities\n",
    "    probabilities = F.softmax(logits, dim=-1)\n",
    "    \n",
    "    # Get the predicted label\n",
    "    predicted_label = torch.argmax(probabilities).item()\n",
    "    \n",
    "    # Get the probability of the predicted label\n",
    "    predicted_probability = probabilities[0][predicted_label].item()\n",
    "    \n",
    "    # Convert the label to sentiment name\n",
    "    sentiment_name = convert_posts_label(predicted_label)\n",
    "    \n",
    "    print(f\"Sentiment: {sentiment_name}\")\n",
    "    print(f\"Probability: {predicted_probability:.4f}\")"
   ]
  },
  {
   "cell_type": "code",
   "execution_count": 5,
   "id": "e5cb25b2-cfee-48d8-83f5-fc7df2d4de9e",
   "metadata": {},
   "outputs": [],
   "source": [
    "# Sentence to evaluate\n",
    "sentence = '''\n",
    "المدرب اللي قدامك في الصورة ده واحد من افضل المدربين الموسم ده و حرفيا كدة مش واخد حقه ابدا ! \n",
    "اتلانتا مع جاسبريني عاملين عظمه الموسم ده ، فريق ملتزم و متوازن جدا ، تحولاته تدرس ، قدروا يناطحوا الفرق الكبيرة في الكالتشيو راس ب راس من الاخر ! \n",
    "اتلانتا لحد دلوقتي عاملين معجزة فعلا ، فريق بينافس علي الدوري الايطالي بكل قوة ، خليني ابهرك بأرقامهم المرعبه السنة دي !\n",
    "'''"
   ]
  },
  {
   "cell_type": "code",
   "execution_count": 6,
   "id": "5e4458f0-f072-419e-b822-2a4f5415fc10",
   "metadata": {},
   "outputs": [
    {
     "name": "stdout",
     "output_type": "stream",
     "text": [
      "Sentiment: Sports\n",
      "Probability: 0.9995\n"
     ]
    }
   ],
   "source": [
    "analyze_sentiment(sentence, tokenizer, model, convert_posts_label)"
   ]
  },
  {
   "cell_type": "code",
   "execution_count": 7,
   "id": "e288322f-c97b-4565-9c5e-0acdc50af302",
   "metadata": {},
   "outputs": [
    {
     "name": "stdout",
     "output_type": "stream",
     "text": [
      "Sentiment: Politics\n",
      "Probability: 0.9980\n"
     ]
    }
   ],
   "source": [
    "sentence = '''\n",
    "كلمة الرئيس السيسي في المؤتمر الاقتصادي المصري الدنماركي\n",
    "- الفترة الأخيرة شهدت تحديات إقليمية ودولية متتالية كان لها تداعيات أثرت على مصر مثل الكثير من دول العالم \n",
    "- الاقتصاد المصري نجح في مواجهة المرحلة الصعبة وهو ما انعكس بصورة إيجابية على المؤشرات الاقتصادية وتحسن التصنيف الائتماني للبلاد\n",
    "- سوف نوقع غدا \"إعلانا مشتركا لترفيع مستوى العلاقات المصرية الدنماركية\" إلى مستوى الشراكة \n",
    "- تشكيل مجلس الأعمال \"المصري - الدنماركي\" يأتي كنقطة انطلاق للكيانات الاقتصادية والتجارية الدنماركية للاطلاع على الإمكانات الاستثمارية المتوافرة بمصـر\n",
    "'''\n",
    "\n",
    "analyze_sentiment(sentence, tokenizer, model, convert_posts_label)"
   ]
  },
  {
   "cell_type": "code",
   "execution_count": 8,
   "id": "f5cc1116-7ef8-43a4-9ecd-9b74a99fe6ea",
   "metadata": {},
   "outputs": [
    {
     "name": "stdout",
     "output_type": "stream",
     "text": [
      "Sentiment: Art\n",
      "Probability: 0.9987\n"
     ]
    }
   ],
   "source": [
    "sentence = '''\n",
    "فيلم جبار😍✌️\n",
    "الي بيحب افلام من نوع الغموض والاثارةوالتشويق انت جيت المكان الصح \n",
    "فيلم vivarium 😉\n",
    "لا كمان ده فيه رسالة قوية جدا ومش رسالة واحد بس مجموعة رسائل في بعض واسقاطات كتير اوي علي حيات كل واحد فينا \n",
    "بس مش معني كد ان كل حاجة في الفيلم هتفهمه في حاجات هتبقي واضحه اوي وفي حاجات هيطلع عينك علشان تعرف هي بترمز ل ايه بظبط \n",
    "الفيلم مفهوش مملل خلص هو تجربة حلوة وقاسية 😞\n",
    "تقيمي ليه 9 من 10 \n",
    "وانصح بيه اوي\n",
    "'''\n",
    "\n",
    "analyze_sentiment(sentence, tokenizer, model, convert_posts_label)"
   ]
  },
  {
   "cell_type": "code",
   "execution_count": 9,
   "id": "37984945-52d7-49a7-b7f4-20bcc01abd44",
   "metadata": {},
   "outputs": [
    {
     "name": "stdout",
     "output_type": "stream",
     "text": [
      "Sentiment: Religion\n",
      "Probability: 0.9993\n"
     ]
    }
   ],
   "source": [
    "sentence = '''\n",
    "\"إلهي فيكَ قد أحسنتُ ظنِّي\n",
    "ومن ذنبي بعفوكَ أستجيرُ\n",
    "ومهما كنتُ في خيرٍ فإني\n",
    "لما أنزلتَ من خيرٍ فقيرُ.\"\n",
    "'''\n",
    "\n",
    "analyze_sentiment(sentence, tokenizer, model, convert_posts_label)"
   ]
  },
  {
   "cell_type": "code",
   "execution_count": 358,
   "id": "514ad414-3dd1-43c3-b6fb-a99d641cd147",
   "metadata": {},
   "outputs": [],
   "source": [
    "# # Load your trained model (replace 'path/to/your/model' with the actual path)\n",
    "# sentiment_model_path = r\"J:\\Booking Scraping\\Reviews\\Code\\Booking Reviews Classification Model using Bert\"\n",
    "# sentiment_model = BertForSequenceClassification.from_pretrained(sentiment_model_path)\n",
    "# sentiment_tokenizer = BertTokenizer.from_pretrained(sentiment_model_path)"
   ]
  },
  {
   "cell_type": "code",
   "execution_count": 372,
   "id": "b217a9a2-1cdf-48b7-9142-533cfc5762cb",
   "metadata": {},
   "outputs": [],
   "source": [
    "# def convert_sentiment_label(label):\n",
    "#     label_names = {\n",
    "#         0: 'Negative',\n",
    "#         1: 'Positive',\n",
    "#     }\n",
    "\n",
    "#     return label_names[label]"
   ]
  },
  {
   "cell_type": "code",
   "execution_count": 554,
   "id": "a35d7a12-114a-4957-9712-0704706f3057",
   "metadata": {},
   "outputs": [
    {
     "name": "stdout",
     "output_type": "stream",
     "text": [
      "Sentiment: Negative\n",
      "Probability: 0.9662\n"
     ]
    }
   ],
   "source": [
    "# # Tokenize and prepare the input for the model\n",
    "# inputs = sentiment_tokenizer(sentence, return_tensors='pt')\n",
    "\n",
    "# # Forward pass through the model\n",
    "# with torch.no_grad():\n",
    "#     outputs = sentiment_model(**inputs)\n",
    "\n",
    "# # Get the logits\n",
    "# logits = outputs.logits\n",
    "\n",
    "# # Convert logits to probabilities\n",
    "# probabilities = F.softmax(logits, dim=-1)\n",
    "\n",
    "# # Get the predicted label\n",
    "# predicted_label = torch.argmax(probabilities).item()\n",
    "\n",
    "# # Get the probability of the predicted label\n",
    "# predicted_probability = probabilities[0][predicted_label].item()\n",
    "\n",
    "# # Convert the label to sentiment name\n",
    "# sentiment_name = convert_sentiment_label(predicted_label)\n",
    "\n",
    "# print(f\"Sentiment: {sentiment_name}\")\n",
    "# print(f\"Probability: {predicted_probability:.4f}\")"
   ]
  }
 ],
 "metadata": {
  "kernelspec": {
   "display_name": "Python 3 (ipykernel)",
   "language": "python",
   "name": "python3"
  },
  "language_info": {
   "codemirror_mode": {
    "name": "ipython",
    "version": 3
   },
   "file_extension": ".py",
   "mimetype": "text/x-python",
   "name": "python",
   "nbconvert_exporter": "python",
   "pygments_lexer": "ipython3",
   "version": "3.12.7"
  }
 },
 "nbformat": 4,
 "nbformat_minor": 5
}
